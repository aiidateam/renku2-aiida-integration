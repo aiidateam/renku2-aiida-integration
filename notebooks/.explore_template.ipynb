{
 "cells": [
  {
   "cell_type": "markdown",
   "metadata": {},
   "source": [
    "# Live inspection of provenance from an AiiDA archive\n",
    "This Renku project helps easily inspecting the content of an AiiDA archive file, e.g. to extract raw inputs and outputs of calculations run with it, without the need to install AiiDA. (click [here]() to know what AiiDA is!)\n",
    "\n",
    "It seems that you didn't create this session directly by clicking on the special links provided in the [Materials Cloud Archive](xxx) entries that contain an AiiDA archive (see e.g. this: XXX).\n",
    "You can still use this notebook, but you will need to import the data first:\n",
    "\n",
    "* Get an [AiiDA](xxx) archive file (`.aiida` files), e.g. with the `wget` command from a terminal in this Renku JupyterLab session.\n",
    "* Run the following command to create a temporary read-only profile accessing the data:\n",
    "\n",
    "  ```shell\n",
    "  ❯ verdi profile setup core.sqlite_zip --filepath <your-archive>.aiida\n",
    "  ```\n",
    "* (optional) If instead you want to be able to modify the AiiDA archive, use instead:\n",
    "  ```shell\n",
    "  ❯ verdi presto\n",
    "  ❯ verdi archive import <your-archive>.aiida\n",
    "  ```\n",
    "\n",
    "You can then inspect the archive content in the notebook below, which already contains a simple template with basic AiiDA commands.\n",
    "You can check [the AiiDA documentation](https://aiida.readthedocs.io/projects/aiida-core/en/latest/howto/data.html) to learn how to interact with the data."
   ]
  },
  {
   "cell_type": "markdown",
   "metadata": {},
   "source": [
    "# Live inspection of provenance from an AiiDA archive\n",
    "## Dataset: How to verify the precision of density-functional-theory implementations via reproducible and universal workflows\n",
    "* DOI of the data: [https://doi.org/10.24435/materialscloud:s4-3h](https://doi.org/10.24435/materialscloud:s4-3h)\n",
    "* Materials Cloud Archive entry: ``materialscloud:2023.117``\n",
    "* Preloaded archive file: ``acwf-verification_oxides-verification-PBE-v1-results_quantum_espresso-SSSP-1.3-PBE-precision.aiida``\n",
    "* AiiDA profile name in which it was imported: ``aiida-renku``\n",
    "\n",
    "## Instructions\n",
    "We preloaded the archive file mentioned above in an AiiDA archive).\n",
    "\n",
    "**NOTE**: *If you were expecting a different archive or file, you probably already have an open Renku session. Each Renku user can only have one session at a given time. To see the new file, close the current session by clicking on the trash button on the top left corner of this browser window, and then click again on the file in Materials Cloud Archive to open a new session pointing to the file you want.*\n",
    "\n",
    "You can inspect its content in the notebook below, which already contains a simple template with basic AiiDA commands.\n",
    "You can check [the AiiDA documentation](https://aiida.readthedocs.io/projects/aiida-core/en/latest/howto/data.html) to learn how to interact with the data."
   ]
  },
  {
   "cell_type": "code",
   "execution_count": null,
   "metadata": {},
   "outputs": [],
   "source": [
    "from aiida import orm, load_profile\n",
    "\n",
    "load_profile('aiida-renku')"
   ]
  },
  {
   "cell_type": "code",
   "execution_count": null,
   "metadata": {},
   "outputs": [],
   "source": [
    "# Start querying the database using AiiDA's QueryBuilder\n",
    "qb = orm.QueryBuilder()\n",
    "qb.append(orm.Node)\n",
    "print(f\"Number of nodes in the loaded AiiDA archive: {qb.count()}\")"
   ]
  },
  {
   "cell_type": "code",
   "execution_count": null,
   "metadata": {},
   "outputs": [],
   "source": [
    "print(\"List of groups in the AiiDA archive:\")\n",
    "for group in orm.Group.collection.all():\n",
    "    num = len([node for node in group.nodes if node.node_type.startswith('process.')])\n",
    "    print(f'* {group.label} [containing {num} calculations or workflows]')\n",
    "    if num:\n",
    "        print(\"  UUIDs of the calculations or worflows in the group:\")\n",
    "        for idx, node in enumerate(group.nodes):\n",
    "            if idx > 5:\n",
    "                print(f'  ... (run `verdi group show {group.label}` in a terminal to see all of them`')\n",
    "                break\n",
    "            if node.node_type.startswith('process.'):\n",
    "                print(f'    - {node.uuid}')\n",
    "                "
   ]
  },
  {
   "cell_type": "markdown",
   "metadata": {},
   "source": [
    "If you want to see the raw data associated to the calculations, you can uncomment and run the following command, after replacing the placeholder `<PROCESS_UUID>` below with one of the UUIDs above.\n",
    "\n",
    "A folder will be created, whose name is mentioned in the output of the command. \n",
    "\n",
    "You can then inspect its content (including raw inputs and outputs, automatically stored by AiiDA) either from a terminal or from the JupyterLab file browser on the left."
   ]
  },
  {
   "cell_type": "code",
   "execution_count": null,
   "metadata": {},
   "outputs": [],
   "source": [
    "#!verdi process dump <PROCESS_UUID>"
   ]
  },
  {
   "cell_type": "code",
   "execution_count": null,
   "metadata": {},
   "outputs": [],
   "source": [
    "!verdi process dump 7704619f-56df-44f0-a9b7-431072c43749"
   ]
  },
  {
   "cell_type": "code",
   "execution_count": null,
   "metadata": {},
   "outputs": [],
   "source": []
  }
 ],
 "metadata": {
  "kernelspec": {
   "display_name": "Python 3 (ipykernel)",
   "language": "python",
   "name": "python3"
  },
  "language_info": {
   "codemirror_mode": {
    "name": "ipython",
    "version": 3
   },
   "file_extension": ".py",
   "mimetype": "text/x-python",
   "name": "python",
   "nbconvert_exporter": "python",
   "pygments_lexer": "ipython3",
   "version": "3.11.0"
  }
 },
 "nbformat": 4,
 "nbformat_minor": 4
}
