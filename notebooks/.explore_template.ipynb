{
 "cells": [
  {
   "cell_type": "markdown",
   "metadata": {
    "tags": [
     "manual-setup"
    ]
   },
   "source": [
    "# Live inspection of provenance from an AiiDA archive\n",
    "\n",
    "This notebook allows you to explore and analyze AiiDA archives interactively. You can examine the provenance graph, query calculations, and extract data from computational workflows.\n",
    "\n",
    "For more information see [the AiiDA documentation](https://aiida.readthedocs.io/projects/aiida-core/en/latest/howto/data.html).\n",
    "\n",
    "## Getting Started\n",
    "\n",
    "Since no archive was pre-configured for this session, you have two options to get started:\n",
    "\n",
    "### Option 1: Use Materials Cloud Archive\n",
    "**Follow the steps below** to automatically download and set up an archive from Materials Cloud Archive:\n",
    "\n",
    "1. **Provide the archive URL** in the cell below (from Materials Cloud Archive)\n",
    "2. **Run the setup cells** to download and configure the archive\n",
    "3. **Start exploring** using the AiiDA commands and examples\n",
    "\n",
    "### Option 2: Manual Setup with Local Archive\n",
    "If you have a local `.aiida` file, you first need to upload it to this Renku session.\n",
    "Then, you can set up your profile manually in a terminal:\n",
    "\n",
    "```shell\n",
    "# Then create a read-only AiiDA profile\n",
    "❯ verdi profile setup core.sqlite_zip --filepath your-archive.aiida\n",
    "```\n",
    "\n",
    "Alternatively, you can import it into an existing profile:\n",
    "\n",
    "```shell\n",
    "❯ verdi presto  # Create a profile\n",
    "❯ verdi archive import your-archive.aiida\n",
    "```\n",
    "\n",
    "**For the automated setup, continue with the cell below ⬇️**"
   ]
  },
  {
   "cell_type": "markdown",
   "metadata": {
    "tags": [
     "manual-setup"
    ]
   },
   "source": [
    "## Step 0: Provide the Materials Cloud Archive URL\n",
    "Set the `archive_url` variable in the cell below"
   ]
  },
  {
   "cell_type": "code",
   "execution_count": null,
   "metadata": {
    "tags": [
     "manual-setup"
    ]
   },
   "outputs": [],
   "source": [
    "# CONFIGURE YOUR ARCHIVE URL HERE:\n",
    "archive_url = \"\"  # Paste your Materials Cloud Archive URL here\n",
    "\n",
    "# Example URLs:\n",
    "# archive_url = \"https://archive.materialscloud.org/record/2023.81\"\n",
    "# archive_url = \"https://archive.materialscloud.org/records/yf0rj-w3r97/files/acwf-verification_unaries-verification-PBE-v1-results_quantum_espresso-SSSP-1.3-PBE-precision.aiida\""
   ]
  },
  {
   "cell_type": "code",
   "execution_count": null,
   "metadata": {
    "jupyter": {
     "source_hidden": true
    },
    "tags": [
     "manual-setup",
     "collapsed"
    ]
   },
   "outputs": [],
   "source": [
    "# Execute to fetch the archive metadata\n",
    "\n",
    "import os\n",
    "import subprocess\n",
    "\n",
    "if not archive_url.strip():\n",
    "    print(\"❌ Please set the archive_url variable above and run this cell again.\")\n",
    "else:\n",
    "    print(f\"🔗 Processing URL: {archive_url}\")\n",
    "\n",
    "    try:\n",
    "        # Call the metadata fetching script\n",
    "        result = subprocess.run(\n",
    "            [\n",
    "                \"python3\",\n",
    "                \"/home/jovyan/work/renku2-aiida-integration/.scripts/fetch_mca_metadata.py\",\n",
    "                \"--archive-url\",\n",
    "                archive_url,\n",
    "            ],\n",
    "            capture_output=True,\n",
    "            text=True,\n",
    "            check=True,\n",
    "        )\n",
    "\n",
    "        # Print the script output\n",
    "        if result.stdout:\n",
    "            print(result.stdout)\n",
    "\n",
    "        # Load the generated metadata to display summary\n",
    "        metadata_file = \"/tmp/mca_metadata.json\"\n",
    "        if os.path.exists(metadata_file):\n",
    "            import json\n",
    "\n",
    "            with open(metadata_file, \"r\") as f:\n",
    "                metadata = json.load(f)\n",
    "\n",
    "        else:\n",
    "            print(\"⚠️ Metadata file not found after script execution\")\n",
    "\n",
    "    except subprocess.CalledProcessError as e:\n",
    "        print(f\"❌ Failed to fetch metadata: {e}\")\n",
    "        if e.stderr:\n",
    "            print(f\"Error output: {e.stderr}\")\n",
    "        print(\"Please check the URL and try again\")\n",
    "\n",
    "    except Exception as e:\n",
    "        print(f\"❌ Error running metadata script: {e}\")\n",
    "        print(\"Please check the URL format and try again\")"
   ]
  },
  {
   "cell_type": "markdown",
   "metadata": {
    "tags": [
     "archive-setup"
    ]
   },
   "source": [
    "# Live inspection of provenance from an AiiDA archive\n",
    "## Dataset: {{ title }}\n",
    "* DOI of the data: [{{ doi_url }}]({{ doi_url }})\n",
    "* Materials Cloud Archive entry: `{{ mca_entry }}`\n",
    "* Archive file: `{{ archive_filename }}`\n",
    "* AiiDA profile name: `{{ aiida_profile }}`\n",
    "\n",
    "## Instructions\n",
    "This session is configured to work with the archive file mentioned above. The archive has not been downloaded yet to keep startup fast.\n",
    "\n",
    "**Follow these steps:**\n",
    "1. **Run the cells below** to download the archive and set up AiiDA\n",
    "2. **Start exploring** using the AiiDA commands and examples\n",
    "\n",
    "**NOTE**: *If you were expecting a different archive or file, you probably already have an open Renku session. Each\n",
    "Renku user can only have one session at a given time. To see the new file, close the current session by clicking on the\n",
    "trash button on the top left corner of this browser window, and then click again on the file in Materials Cloud Archive\n",
    "to open a new session pointing to the file you want.*\n",
    "\n",
    "You can inspect its content in the notebook below, which already contains a simple template with basic AiiDA commands,\n",
    "as well as check [the AiiDA documentation](https://aiida.readthedocs.io/projects/aiida-core/en/latest/howto/data.html) to learn how to interact with the data."
   ]
  },
  {
   "cell_type": "markdown",
   "metadata": {
    "tags": [
     "archive-setup",
     "manual-setup"
    ]
   },
   "source": [
    "## Step 1: Download the Archive\n",
    "This cell will download the archive file from Materials Cloud Archive."
   ]
  },
  {
   "cell_type": "code",
   "execution_count": null,
   "metadata": {
    "jupyter": {
     "source_hidden": true
    },
    "tags": [
     "collapsed",
     "archive-setup",
     "manual-setup"
    ]
   },
   "outputs": [],
   "source": [
    "# Execute to download the AiiDA archive from Materials Cloud\n",
    "\n",
    "import os\n",
    "import json\n",
    "import urllib.request\n",
    "from urllib.error import URLError\n",
    "from pathlib import Path\n",
    "from tqdm import tqdm\n",
    "\n",
    "# Load metadata from JSON file\n",
    "metadata_file = \"/tmp/mca_metadata.json\"\n",
    "\n",
    "if not os.path.exists(metadata_file):\n",
    "    print(\"❌ No metadata file found. Please run the session setup first.\")\n",
    "else:\n",
    "    with open(metadata_file, \"r\") as f:\n",
    "        metadata = json.load(f)\n",
    "\n",
    "    # Extract information from metadata\n",
    "    archive_url = metadata.get(\"archive_url\", os.environ.get(\"archive_url\"))\n",
    "    archive_filename = metadata.get(\"archive_filename\")\n",
    "    archive_title = metadata.get(\"title\", \"Unknown Dataset\")\n",
    "    doi = metadata.get(\"doi\")\n",
    "    mca_entry = metadata.get(\"mca_entry\")\n",
    "\n",
    "    if not archive_url:\n",
    "        print(\"❌ No archive URL found. This cell is only for pre-configured archives.\")\n",
    "    elif not archive_filename:\n",
    "        print(\"❌ No archive filename found in metadata.\")\n",
    "    else:\n",
    "        print(f\"📦 Dataset: {archive_title}\")\n",
    "        print(f\"📁 Archive file: {archive_filename}\")\n",
    "        print(f\"🔗 Source URL: {archive_url}\")\n",
    "        if doi:\n",
    "            print(f\"📄 DOI: {doi}\")\n",
    "        if mca_entry:\n",
    "            print(f\"🏷️ MCA Entry: {mca_entry}\")\n",
    "        print(\"\")\n",
    "\n",
    "        # Create data directory\n",
    "        data_dir = Path.cwd().parent / \"data\" / \"aiida\"\n",
    "        data_dir.mkdir(exist_ok=True)\n",
    "\n",
    "        archive_path = data_dir / archive_filename\n",
    "\n",
    "        if archive_path.exists():\n",
    "            size_mb = archive_path.stat().st_size / (1024 * 1024)\n",
    "            print(f\"✅ Archive already exists ({size_mb:.1f} MB)\")\n",
    "        else:\n",
    "            print(\"⬇️ Downloading archive...\")\n",
    "\n",
    "            try:\n",
    "\n",
    "                class TqdmUpTo(tqdm):\n",
    "                    def update_to(self, b=1, bsize=1, tsize=None):\n",
    "                        if tsize is not None:\n",
    "                            self.total = tsize\n",
    "                        return self.update(b * bsize - self.n)\n",
    "\n",
    "                # Update every 2 seconds to avoid IOPub rate limit\n",
    "                with TqdmUpTo(unit=\"B\", unit_scale=True, miniters=1, mininterval=2.0, desc=archive_filename) as t:\n",
    "                    urllib.request.urlretrieve(archive_url, archive_path, reporthook=t.update_to)\n",
    "\n",
    "                size_mb = archive_path.stat().st_size / (1024 * 1024)\n",
    "                print(f\"✅ Archive downloaded successfully ({size_mb:.1f} MB)\")\n",
    "\n",
    "            except URLError as e:\n",
    "                print(f\"❌ Download failed: {e}\")\n",
    "\n",
    "        print(f\"\\n📍 Archive location: {archive_path.absolute()}\")"
   ]
  },
  {
   "cell_type": "markdown",
   "metadata": {
    "tags": [
     "archive-setup",
     "manual-setup"
    ]
   },
   "source": [
    "## Step 2: Set up the AiiDA Profile\n",
    "This cell creates a read-only AiiDA profile from the downloaded archive."
   ]
  },
  {
   "cell_type": "code",
   "execution_count": null,
   "metadata": {
    "jupyter": {
     "source_hidden": true
    },
    "tags": [
     "collapsed",
     "archive-setup",
     "manual-setup"
    ]
   },
   "outputs": [],
   "source": [
    "# Execute to set up the AiiDA profile from the downloaded archive\n",
    "\n",
    "import subprocess\n",
    "import os\n",
    "from pathlib import Path\n",
    "\n",
    "# Get profile information\n",
    "profile_name = metadata.get(\"aiida_profile\", \"aiida-renku\")\n",
    "archive_filename = metadata.get(\"archive_filename\")\n",
    "data_dir = Path.cwd().parent / \"data\" / \"aiida\"\n",
    "archive_path = data_dir / archive_filename\n",
    "\n",
    "if not archive_path.exists():\n",
    "    print(\"❌ Archive file not found. Please run the download cell above first.\")\n",
    "else:\n",
    "    print(f\"🔧 Setting up AiiDA profile: {profile_name}\")\n",
    "    print(f\"📁 Using archive: {archive_path}\")\n",
    "    print(\"\")\n",
    "\n",
    "    # Check if profile already exists\n",
    "    try:\n",
    "        result = subprocess.run([\"verdi\", \"profile\", \"show\", profile_name], capture_output=True, text=True, check=True)\n",
    "        print(f\"✅ Profile '{profile_name}' already exists\")\n",
    "\n",
    "    except subprocess.CalledProcessError:\n",
    "        # Profile doesn't exist, create it\n",
    "        print(\"⚙️ Creating AiiDA profile...\")\n",
    "        print(\"(This may take a few minutes if a database migration is required)\\n\")\n",
    "\n",
    "        try:\n",
    "            result = subprocess.run(\n",
    "                [\n",
    "                    \"verdi\",\n",
    "                    \"profile\",\n",
    "                    \"setup\",\n",
    "                    \"core.sqlite_zip\",\n",
    "                    \"--profile-name\",\n",
    "                    profile_name,\n",
    "                    \"--first-name\",\n",
    "                    \"AiiDA\",\n",
    "                    \"--last-name\",\n",
    "                    \"User\",\n",
    "                    \"--email\",\n",
    "                    \"aiida@renku\",\n",
    "                    \"--institution\",\n",
    "                    \"RenkuLab\",\n",
    "                    \"--set-as-default\",\n",
    "                    \"--non-interactive\",\n",
    "                    \"--no-use-rabbitmq\",\n",
    "                    \"--filepath\",\n",
    "                    str(archive_path.absolute()),\n",
    "                ],\n",
    "                capture_output=True,\n",
    "                text=True,\n",
    "                check=True,\n",
    "            )\n",
    "\n",
    "            print(f\"✅ Profile '{profile_name}' created successfully!\")\n",
    "\n",
    "        except subprocess.CalledProcessError as e:\n",
    "            print(f\"❌ Failed to create profile: {e}\")\n",
    "            print(f\"Error output: {e.stderr}\")\n",
    "            print(\"\\nYou can try creating the profile manually with:\")\n",
    "            print(f\"verdi profile setup core.sqlite_zip --filepath {archive_path}\")\n",
    "\n",
    "    # Set as default profile\n",
    "    try:\n",
    "        subprocess.run([\"verdi\", \"profile\", \"setdefault\", profile_name], capture_output=True, check=True)\n",
    "        print(f\"🎯 Profile '{profile_name}' set as default\")\n",
    "    except subprocess.CalledProcessError:\n",
    "        print(\"⚠️ Could not set as default profile, but it should still work\")\n",
    "\n",
    "    print(\"\\n🎉 AiiDA setup complete! You can now explore the archive data below.\")"
   ]
  },
  {
   "cell_type": "markdown",
   "metadata": {},
   "source": [
    "## Step 3: Start Exploring\n",
    "Now you can start exploring the AiiDA database!"
   ]
  },
  {
   "cell_type": "code",
   "execution_count": null,
   "metadata": {},
   "outputs": [],
   "source": [
    "from aiida import orm, load_profile\n",
    "\n",
    "# Load the default AiiDA profile\n",
    "profile = load_profile()\n",
    "print(f\"✅ Loaded AiiDA profile: {profile.name}\")"
   ]
  },
  {
   "cell_type": "code",
   "execution_count": null,
   "metadata": {},
   "outputs": [],
   "source": [
    "# Start querying the database using AiiDA's QueryBuilder\n",
    "qb = orm.QueryBuilder()\n",
    "qb.append(orm.Node)\n",
    "print(f\"Number of nodes in the loaded AiiDA archive: {qb.count()}\")\n",
    "\n",
    "print(\"List of groups in the AiiDA archive:\")\n",
    "for group in orm.Group.collection.all():\n",
    "    num = len([node for node in group.nodes if node.node_type.startswith(\"process.\")])\n",
    "    print(f\"* {group.label} [containing {num} calculations or workflows]\")\n",
    "    if num:\n",
    "        print(\"  UUIDs of the calculations or workflows in the group:\")\n",
    "        for idx, node in enumerate(group.nodes):\n",
    "            if idx > 5:\n",
    "                print(f\"  ... (run `verdi group show {group.label}` in a terminal to see all of them`\")\n",
    "                break\n",
    "            if node.node_type.startswith(\"process.\"):\n",
    "                print(f\"    - {node.uuid}\")"
   ]
  },
  {
   "cell_type": "markdown",
   "metadata": {},
   "source": [
    "### Exporting the provenance graph\n",
    "\n",
    "AiiDA tracks the full provenance of your simulations, including inputs, outputs, and process metadata in its provenance\n",
    "graph."
   ]
  },
  {
   "cell_type": "code",
   "execution_count": null,
   "metadata": {},
   "outputs": [],
   "source": [
    "# Uncomment the following line to generate the provenance graph of a given calculation or workflow:\n",
    "# !verdi node graph generate {node.uuid}\n",
    "# Here, we are using the last `node` from the cell above, so make sure to run it, otherwise it might be undefined.\n",
    "# Alternatively, you can use any process UUID in the command.\n",
    "\n",
    "# This will generate a PDF file with the provenance graph in the current working directory, which you can open in the\n",
    "# file explorer on the left (the file name will be printed by the command).\n",
    "# NOTE: Depending on the complexity of the workflow, the generated PDF file might be very big and not open correctly in\n",
    "# the browser: we recommend right-clicking on the file name on the left browser and downloading it, to visualize it\n",
    "# on your computer."
   ]
  },
  {
   "cell_type": "markdown",
   "metadata": {},
   "source": [
    "### Export raw calculation inputs and outputs\n",
    "\n",
    "You can also export data to disk for analysis with other tools (e.g., Linux command line utilities like `grep`):"
   ]
  },
  {
   "cell_type": "code",
   "execution_count": null,
   "metadata": {},
   "outputs": [],
   "source": [
    "# NOTE: AiiDA uses three types of identifiers:\n",
    "# * UUIDs: Universally unique identifiers (already used in the cells above ;), which are guaranteed to be globally\n",
    "#   unique, even between different AiiDA databases and profiles, hence these are generally the most \"safe\" to use.\n",
    "# * PKs: Primary keys, which are simpler integer identifiers, and are only unique within a single AiiDA database\n",
    "# * Labels: Human-readable strings that can be assigned to AiiDA entities for easier reference\n",
    "\n",
    "# Uncomment and modify these commands to export specific data:\n",
    "\n",
    "# * Export inputs/outputs of a given process (calculation or workflow)\n",
    "#   !verdi process dump <process-(uuid|pk|label)>\n",
    "\n",
    "# * Export raw data of all calculations and workflows in a given group\n",
    "#   !verdi group dump <group-(uuid|pk|label)>\n",
    "\n",
    "# * Export raw data of all calculations and workflows in the AiiDA profile\n",
    "#   !verdi profile dump --all\n",
    "\n",
    "# NOTE: Dumping all profile data might take a considerable amount of time if your database is large.\n",
    "# Therefore, the command provides various options to filter by groups, creation time of nodes, etc.\n",
    "# You can see all the available options using: `!verdi profile dump --help`"
   ]
  }
 ],
 "metadata": {
  "kernelspec": {
   "display_name": "Python 3 (ipykernel)",
   "language": "python",
   "name": "python3"
  },
  "language_info": {
   "codemirror_mode": {
    "name": "ipython",
    "version": 3
   },
   "file_extension": ".py",
   "mimetype": "text/x-python",
   "name": "python",
   "nbconvert_exporter": "python",
   "pygments_lexer": "ipython3",
   "version": "3.11.0"
  }
 },
 "nbformat": 4,
 "nbformat_minor": 4
}
